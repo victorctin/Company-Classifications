{
 "cells": [
  {
   "cell_type": "markdown",
   "id": "71ab78ce",
   "metadata": {},
   "source": [
    "##### Solutia a 2 a embeddings\n",
    "\n",
    "\n",
    "In solutia 2 am abordat o clasificarea printr un model bazat pe similaritate semantica. Obiectivul a fost sa depasesc limitele regulilor exacte din solutia 1 si sa surprind sensul real al descrierilor companiilor. Am implementat o metoda hibrida TF-IDF si Similaritate Cosinus, cu optiune de extindere la embeddings din modele mari de limbaj (llm) precum sentence-transformers.\n",
    "\n",
    "Ideea de baza a fost urmatoarea: daca o companie are o descriere textuala similara semantic cu descrierea unei etichete din taxonomie, atunci compania trebuie clasificata cu acea eticheta. In loc sa cautam potriviri exacte intre cuvinte, cautam proximitate semantica intre texte.\n",
    "\n",
    "Am ales TF-IDF deoarece ofera o reprezentare interpretabila, rapida si scalabila. Fiecare text este transformat intr un vector de importante relative ale cuvintelor. Cu ajutorul similaritatii cosinus putem masura cat de apropiate sunt vectorial descrierile companiilor de definitiile etichetelor.\n",
    "\n",
    "Pentru a imbunatati semnalul, am concatenat trei surse de informatie: Description, Business Tags si Sector. Am curatat textul (lowercase, eliminare semne non-alfanumerice, stopwords, spatii multiple). Astfel am construit un camp text complet pentru fiecare companie si fiecare eticheta.\n",
    "\n",
    "Apoi am calculat scorurile de similaritate intre fiecare companie si fiecare eticheta. Scorurile mari semnifica asemanare semantica puternica. Am ales praguri dinamice bazate pe distributia scorurilor, media plus o deviatie standard. Fiecare companie a primit una sau mai multe etichete cu scor peste prag.\n",
    "\n",
    "Am considerat si alternativa embeddings, cu all-minilm-l6-v2, care capteaza semnificatia contextuala. Tf idf masoara similaritate lexica, dar embeddings masoara similaritate conceptuala. Am evaluat ambele pentru comparatie.\n",
    "\n",
    "Avantajul principal al acestei abordari este adaptabilitatea. Nu depinde strict de seeduri. Daca o companie mentioneaza \"automobile\" iar taxonomia contine \"vehicle insurance\", modelul de embeddings poate detecta asemanarea fara sa fie explicit mentionat termenul.\n",
    "\n",
    "Am optat pentru aceasta metoda deoarece se extinde natural la sute de etichete si mii de companii. Computarea similaritatii cosinus intre matrice tf-idf este eficienta. Putem scala pe gpu pentru embeddings sau ramane pe cpu pentru tf-idf. Sistemul permite actualizare rapida: adaugam o eticheta noua, recalculam doar vectorii ei. \n",
    "\n",
    "In concluzie solutia 2 ofera un echilibru intre flexibilitate si explicabilitate. Modelul poate descoperi conexiuni semantice imposibil de capturat prin reguli fixe. Functioneaza bine pe descrieri variate, sinonime si texte incomplete.\n",
    "\n",
    "Ca si limitari tf-idf ignora ordinea cuvintelor si contextul. Doua texte cu aceleasi cuvinte in ordine diferita pot avea scor mare desi sensul difera. Lipsa de ground truth real face validarea indirecta. Modelul depinde de calitatea textelor. Descrieri scurte, zgomotoase sau neinformative reduc acuratetea. \n",
    "\n",
    "Pentru analiza calitativa, putem lista top 20 companii cu scoruri ambigue sau multiple etichete. Aceasta ajuta la rafinarea descrierilor etichetelor din taxonomie. Scalabilitatea este ridicata. Tf idf + cosine se ruleaza eficient pe zeci de mii de companii. Cu embeddings si faiss, putem scala la milioane. Sistemul este complet offline si reproductibil. Per total solutia 2 este mai buna si un pas major ca prima pentru ca captam sensul nu doar potrivirea literala. Rezultatele sunt mai bogate si utile pentru descoperire de pattern uri si extinderea taxonomiei. Cu validare manuala pe un subset de 300 companii putem calibra pragurile si masura f1 macro, recall pe label si average precision.\n",
    "\n",
    "\n",
    "\n"
   ]
  },
  {
   "cell_type": "code",
   "execution_count": 1,
   "id": "eadc8223",
   "metadata": {},
   "outputs": [],
   "source": [
    "import re\n",
    "from pathlib import Path\n",
    "import json\n",
    "import pandas as pd\n",
    "import numpy as np\n",
    "from collections import Counter, defaultdict\n",
    "\n",
    "from sklearn.feature_extraction.text import TfidfVectorizer\n",
    "from sklearn.metrics.pairwise import cosine_similarity\n",
    "\n",
    "\n"
   ]
  },
  {
   "cell_type": "code",
   "execution_count": 2,
   "id": "6eebd351",
   "metadata": {},
   "outputs": [
    {
     "name": "stdout",
     "output_type": "stream",
     "text": [
      "Taxonomy rows: 220\n",
      "Companies rows: 9494\n"
     ]
    },
    {
     "data": {
      "text/html": [
       "<div>\n",
       "<style scoped>\n",
       "    .dataframe tbody tr th:only-of-type {\n",
       "        vertical-align: middle;\n",
       "    }\n",
       "\n",
       "    .dataframe tbody tr th {\n",
       "        vertical-align: top;\n",
       "    }\n",
       "\n",
       "    .dataframe thead th {\n",
       "        text-align: right;\n",
       "    }\n",
       "</style>\n",
       "<table border=\"1\" class=\"dataframe\">\n",
       "  <thead>\n",
       "    <tr style=\"text-align: right;\">\n",
       "      <th></th>\n",
       "      <th>label</th>\n",
       "    </tr>\n",
       "  </thead>\n",
       "  <tbody>\n",
       "    <tr>\n",
       "      <th>0</th>\n",
       "      <td>Agricultural Equipment Services</td>\n",
       "    </tr>\n",
       "    <tr>\n",
       "      <th>1</th>\n",
       "      <td>Soil Nutrient Application Services</td>\n",
       "    </tr>\n",
       "    <tr>\n",
       "      <th>2</th>\n",
       "      <td>Pesticide Application Services</td>\n",
       "    </tr>\n",
       "    <tr>\n",
       "      <th>3</th>\n",
       "      <td>Ornamental Plant Nurseries</td>\n",
       "    </tr>\n",
       "    <tr>\n",
       "      <th>4</th>\n",
       "      <td>Landscaping Services</td>\n",
       "    </tr>\n",
       "  </tbody>\n",
       "</table>\n",
       "</div>"
      ],
      "text/plain": [
       "                                label\n",
       "0     Agricultural Equipment Services\n",
       "1  Soil Nutrient Application Services\n",
       "2      Pesticide Application Services\n",
       "3          Ornamental Plant Nurseries\n",
       "4                Landscaping Services"
      ]
     },
     "execution_count": 2,
     "metadata": {},
     "output_type": "execute_result"
    }
   ],
   "source": [
    "\n",
    "tax_path = Path('insurance_taxonomy_label.csv')\n",
    "comp_path = Path('insurances_company_list.csv')\n",
    "output_prefix = Path('s2/sol2_tfidf')\n",
    "\n",
    "assert tax_path.exists(), f\"Taxonomy file not found: {tax_path}\"\n",
    "assert comp_path.exists(), f\"Companies file not found: {comp_path}\"\n",
    "\n",
    "tax_df = pd.read_csv(tax_path)\n",
    "comp_df = pd.read_csv(comp_path)\n",
    "\n",
    "# afisare scurta\n",
    "print(\"Taxonomy rows:\", len(tax_df))\n",
    "print(\"Companies rows:\", len(comp_df))\n",
    "tax_df.head(5)"
   ]
  },
  {
   "cell_type": "code",
   "execution_count": 3,
   "id": "7a0ba59d",
   "metadata": {},
   "outputs": [],
   "source": [
    "def clean_text(s):\n",
    "    if pd.isna(s) or s is None:\n",
    "        return ''\n",
    "    s = str(s).lower()\n",
    "    s = s.replace('ă','a').replace('â','a').replace('î','i').replace('ș','s').replace('ş','s').replace('ț','t').replace('ţ','t')\n",
    "    s = re.sub(r'[^a-z0-9\\s\\-]', ' ', s)\n",
    "    s = re.sub(r'\\s+', ' ', s).strip()\n",
    "    return s"
   ]
  },
  {
   "cell_type": "code",
   "execution_count": 4,
   "id": "d0d8c0d7",
   "metadata": {},
   "outputs": [
    {
     "data": {
      "text/plain": [
       "[('Agricultural Equipment Services', 'agricultural equipment services'),\n",
       " ('Soil Nutrient Application Services', 'soil nutrient application services'),\n",
       " ('Pesticide Application Services', 'pesticide application services'),\n",
       " ('Ornamental Plant Nurseries', 'ornamental plant nurseries'),\n",
       " ('Landscaping Services', 'landscaping services'),\n",
       " ('Gardening Services', 'gardening services')]"
      ]
     },
     "execution_count": 4,
     "metadata": {},
     "output_type": "execute_result"
    }
   ],
   "source": [
    "if 'label' not in tax_df.columns:\n",
    "    tax_df = tax_df.rename(columns={tax_df.columns[0]: 'label'})\n",
    "if 'seeds' not in tax_df.columns:\n",
    "    tax_df['seeds'] = ''\n",
    "\n",
    "label_texts = {}\n",
    "for _, r in tax_df.iterrows():\n",
    "    label = str(r['label']).strip()\n",
    "    seeds = str(r.get('seeds','') or '')\n",
    "    if seeds.strip():\n",
    "        parts = [clean_text(p) for p in seeds.split('|') if p.strip()]  # seeds separate prin |\n",
    "        doc = ' '.join(parts)\n",
    "    else:\n",
    "        parts = [clean_text(w) for w in re.split(r'[\\s\\-_]+', label) if len(w)>=2]\n",
    "        doc = ' '.join(parts) if parts else clean_text(label)\n",
    "    label_texts[label] = doc\n",
    "\n",
    "# check/verificare\n",
    "list(label_texts.items())[:6]"
   ]
  },
  {
   "cell_type": "code",
   "execution_count": 5,
   "id": "7815506e",
   "metadata": {},
   "outputs": [
    {
     "name": "stdout",
     "output_type": "stream",
     "text": [
      "Exemplu text companii:\n"
     ]
    },
    {
     "data": {
      "text/html": [
       "<div>\n",
       "<style scoped>\n",
       "    .dataframe tbody tr th:only-of-type {\n",
       "        vertical-align: middle;\n",
       "    }\n",
       "\n",
       "    .dataframe tbody tr th {\n",
       "        vertical-align: top;\n",
       "    }\n",
       "\n",
       "    .dataframe thead th {\n",
       "        text-align: right;\n",
       "    }\n",
       "</style>\n",
       "<table border=\"1\" class=\"dataframe\">\n",
       "  <thead>\n",
       "    <tr style=\"text-align: right;\">\n",
       "      <th></th>\n",
       "      <th>_text</th>\n",
       "      <th>description</th>\n",
       "    </tr>\n",
       "  </thead>\n",
       "  <tbody>\n",
       "    <tr>\n",
       "      <th>0</th>\n",
       "      <td>welchcivils is a civil engineering and constru...</td>\n",
       "      <td>Welchcivils is a civil engineering and constru...</td>\n",
       "    </tr>\n",
       "    <tr>\n",
       "      <th>1</th>\n",
       "      <td>kyoto vegetable specialists uekamo also known ...</td>\n",
       "      <td>Kyoto Vegetable Specialists Uekamo, also known...</td>\n",
       "    </tr>\n",
       "    <tr>\n",
       "      <th>2</th>\n",
       "      <td>loidholdhof integrative hofgemeinschaft is a c...</td>\n",
       "      <td>Loidholdhof Integrative Hofgemeinschaft is a c...</td>\n",
       "    </tr>\n",
       "    <tr>\n",
       "      <th>3</th>\n",
       "      <td>patagonia chapa y pintura is an auto body shop...</td>\n",
       "      <td>PATAGONIA Chapa Y Pintura is an auto body shop...</td>\n",
       "    </tr>\n",
       "    <tr>\n",
       "      <th>4</th>\n",
       "      <td>stanica wodna pttk swornegacie is a cultural e...</td>\n",
       "      <td>Stanica WODNA PTTK Swornegacie is a cultural e...</td>\n",
       "    </tr>\n",
       "  </tbody>\n",
       "</table>\n",
       "</div>"
      ],
      "text/plain": [
       "                                               _text  \\\n",
       "0  welchcivils is a civil engineering and constru...   \n",
       "1  kyoto vegetable specialists uekamo also known ...   \n",
       "2  loidholdhof integrative hofgemeinschaft is a c...   \n",
       "3  patagonia chapa y pintura is an auto body shop...   \n",
       "4  stanica wodna pttk swornegacie is a cultural e...   \n",
       "\n",
       "                                         description  \n",
       "0  Welchcivils is a civil engineering and constru...  \n",
       "1  Kyoto Vegetable Specialists Uekamo, also known...  \n",
       "2  Loidholdhof Integrative Hofgemeinschaft is a c...  \n",
       "3  PATAGONIA Chapa Y Pintura is an auto body shop...  \n",
       "4  Stanica WODNA PTTK Swornegacie is a cultural e...  "
      ]
     },
     "execution_count": 5,
     "metadata": {},
     "output_type": "execute_result"
    }
   ],
   "source": [
    "cols = [c.lower() for c in comp_df.columns]\n",
    "name_col = next((c for c in comp_df.columns if 'name' in c.lower()), comp_df.columns[0])\n",
    "desc_col = next((c for c in comp_df.columns if 'description' in c.lower()), None)\n",
    "tags_col = next((c for c in comp_df.columns if 'tag' in c.lower()), None)\n",
    "sector_col = next((c for c in comp_df.columns if 'sector' in c.lower()), None)\n",
    "\n",
    "# fallbackuri\n",
    "if desc_col is None:\n",
    "    desc_col = comp_df.columns[1] if comp_df.shape[1] > 1 else name_col\n",
    "if tags_col is None:\n",
    "    tags_col = desc_col\n",
    "if sector_col is None:\n",
    "    sector_col = ''\n",
    "\n",
    "# concatenare si curatare\n",
    "def compose_company_text(row):\n",
    "    parts = []\n",
    "    if desc_col and pd.notna(row.get(desc_col,'')):\n",
    "        parts.append(str(row.get(desc_col,'')))\n",
    "    if tags_col and pd.notna(row.get(tags_col,'')):\n",
    "        parts.append(str(row.get(tags_col,'')))\n",
    "    if sector_col and sector_col in comp_df.columns and pd.notna(row.get(sector_col,'')):\n",
    "        parts.append(str(row.get(sector_col,'')))\n",
    "    text = ' '.join(parts)\n",
    "    return clean_text(text)\n",
    "\n",
    "comp_df['_text'] = comp_df.apply(compose_company_text, axis=1)\n",
    "print(\"Exemplu text companii:\")\n",
    "comp_df[[_text := '_text', name_col]].head(5)"
   ]
  },
  {
   "cell_type": "code",
   "execution_count": 6,
   "id": "39f19dad",
   "metadata": {},
   "outputs": [
    {
     "name": "stdout",
     "output_type": "stream",
     "text": [
      "Label vectors: (220, 50000)\n",
      "Company vectors: (9494, 50000)\n"
     ]
    }
   ],
   "source": [
    "# Construire corpus TF-IDF etichete + companii\n",
    "\n",
    "labels = list(label_texts.keys())\n",
    "label_docs = [label_texts[l] for l in labels]\n",
    "\n",
    "company_docs = comp_df['_text'].fillna('').tolist()\n",
    "tfidf = TfidfVectorizer(ngram_range=(1,2), min_df=2, max_features=50000) # Vectorizator TF-IDF\n",
    "all_docs = label_docs + company_docs\n",
    "tfidf.fit(all_docs) # fit pe ambele pentru acelasi spatiu\n",
    "\n",
    "# transform\n",
    "label_vecs = tfidf.transform(label_docs) \n",
    "company_vecs = tfidf.transform(company_docs)\n",
    "\n",
    "print(\"Label vectors:\", label_vecs.shape)\n",
    "print(\"Company vectors:\", company_vecs.shape)"
   ]
  },
  {
   "cell_type": "code",
   "execution_count": 7,
   "id": "a2776c63",
   "metadata": {},
   "outputs": [
    {
     "data": {
      "text/plain": [
       "(9494, 220)"
      ]
     },
     "execution_count": 7,
     "metadata": {},
     "output_type": "execute_result"
    }
   ],
   "source": [
    "sim_matrix = cosine_similarity(company_vecs, label_vecs)\n",
    "sim_matrix.shape"
   ]
  },
  {
   "cell_type": "code",
   "execution_count": 8,
   "id": "b487321f",
   "metadata": {},
   "outputs": [
    {
     "data": {
      "text/plain": [
       "[('Agricultural Equipment Services', 0.18),\n",
       " ('Soil Nutrient Application Services', 0.18),\n",
       " ('Pesticide Application Services', 0.18),\n",
       " ('Ornamental Plant Nurseries', 0.18),\n",
       " ('Landscaping Services', 0.18),\n",
       " ('Gardening Services', 0.18),\n",
       " ('Tree Services - Pruning / Removal', 0.18),\n",
       " ('Veterinary Services', 0.18),\n",
       " ('Veterinary Clinics', 0.18),\n",
       " ('Pet Boarding Services', 0.18)]"
      ]
     },
     "execution_count": 8,
     "metadata": {},
     "output_type": "execute_result"
    }
   ],
   "source": [
    "# Alegere praguri per eticheta\n",
    "\n",
    "label_means = sim_matrix.mean(axis=0)\n",
    "label_stds = sim_matrix.std(axis=0)\n",
    "thresholds_meanstd = label_means + label_stds\n",
    "\n",
    "global_fixed_threshold = 0.18 # alternativ prag fix minimal fallback\n",
    "\n",
    "thresholds = {labels[i]: float(max(thresholds_meanstd[i], global_fixed_threshold)) for i in range(len(labels))} # alege prag final per eticheta\n",
    "\n",
    "# afisare prime 10 praguri\n",
    "list(thresholds.items())[:10]"
   ]
  },
  {
   "cell_type": "code",
   "execution_count": 9,
   "id": "a82c4879",
   "metadata": {},
   "outputs": [
    {
     "name": "stdout",
     "output_type": "stream",
     "text": [
      "Companii : 9494\n",
      "Companii cu cel putin o eticheta : 1971\n"
     ]
    },
    {
     "data": {
      "text/plain": [
       "[('Real Estate Services', 73),\n",
       " ('Consulting Services', 68),\n",
       " ('Insurance Services', 55),\n",
       " ('Non-Profit Management', 54),\n",
       " ('Printing Services', 53),\n",
       " ('Waste Management Services', 53),\n",
       " ('Furniture Manufacturing', 49),\n",
       " ('Sports Management Services', 47),\n",
       " ('Boiler Repair Services', 46),\n",
       " ('Well Maintenance Services', 46),\n",
       " ('Financial Services', 44),\n",
       " ('Interior Design Services', 43),\n",
       " ('Masonry Construction Services', 43),\n",
       " ('Fencing Construction Services', 40),\n",
       " ('Software Development Services', 39)]"
      ]
     },
     "execution_count": 9,
     "metadata": {},
     "output_type": "execute_result"
    }
   ],
   "source": [
    "# Atribuim multi-label pe baza pragurilor\n",
    "\n",
    "assigned = []\n",
    "assigned_scores = []\n",
    "for i in range(sim_matrix.shape[0]):\n",
    "    row = sim_matrix[i]\n",
    "    labs = []\n",
    "    labs_scores = {}\n",
    "    for j, lab in enumerate(labels):\n",
    "        score = float(row[j])\n",
    "        if score >= thresholds[lab]:\n",
    "            labs.append(lab)\n",
    "            labs_scores[lab] = score\n",
    "    assigned.append(labs)\n",
    "    assigned_scores.append(labs_scores)\n",
    "\n",
    "comp_df['assigned_tf_idf'] = assigned\n",
    "comp_df['assigned_tf_idf_scores'] = assigned_scores\n",
    "\n",
    "# statistici rapide\n",
    "n_companies = len(comp_df)\n",
    "n_assigned_any = sum(1 for a in assigned if a)\n",
    "print(\"Companii :\", n_companies)\n",
    "print(\"Companii cu cel putin o eticheta :\", n_assigned_any)\n",
    "Counter([l for labs in assigned for l in labs]).most_common(15)"
   ]
  },
  {
   "cell_type": "code",
   "execution_count": 10,
   "id": "d9f151b9",
   "metadata": {},
   "outputs": [
    {
     "name": "stdout",
     "output_type": "stream",
     "text": [
      "Saved in folder: s2\n",
      " - s2\\sol2_tfidf.csv\n",
      " - s2\\sol2_tfidf_labels.json\n",
      " - s2\\sol2_tfidf_summary.json\n"
     ]
    }
   ],
   "source": [
    "# Salvare rezultate si fisiere\n",
    "\n",
    "output_dir = Path('s2')\n",
    "output_dir.mkdir(parents=True, exist_ok=True)\n",
    "\n",
    "output_prefix = output_dir / 'sol2_tfidf'\n",
    "\n",
    "comp_df.to_csv(f\"{output_prefix}.csv\", index=False) # csv\n",
    "\n",
    "with open(f\"{output_prefix}_labels.json\", 'w', encoding='utf-8') as f:\n",
    "    json.dump({'labels': labels, 'thresholds': thresholds}, f, ensure_ascii=False, indent=2) # JSON labels\n",
    "\n",
    "with open(f\"{output_prefix}_summary.json\", 'w', encoding='utf-8') as f:\n",
    "    summary = {\n",
    "        'n_companies': int(n_companies),\n",
    "        'n_assigned_any': int(n_assigned_any),\n",
    "        'top_labels': Counter([l for labs in assigned for l in labs]).most_common(30)\n",
    "    }\n",
    "    json.dump(summary, f, ensure_ascii=False, indent=2) #JSON summary\n",
    "\n",
    "print(\"Saved in folder:\", output_dir)\n",
    "print(\" -\", f\"{output_prefix}.csv\")\n",
    "print(\" -\", f\"{output_prefix}_labels.json\")\n",
    "print(\" -\", f\"{output_prefix}_summary.json\")"
   ]
  },
  {
   "cell_type": "code",
   "execution_count": 11,
   "id": "418e930f",
   "metadata": {},
   "outputs": [
    {
     "data": {
      "text/plain": [
       "[]"
      ]
     },
     "execution_count": 11,
     "metadata": {},
     "output_type": "execute_result"
    }
   ],
   "source": [
    "# Cautam o coloana true_labels sau ground_truth in comp_df\n",
    "possible_truth_cols = [c for c in comp_df.columns if 'true' in c.lower() or 'ground' in c.lower() or 'label' in c.lower()]\n",
    "possible_truth_cols[:6]\n"
   ]
  },
  {
   "cell_type": "code",
   "execution_count": 12,
   "id": "632a1217",
   "metadata": {},
   "outputs": [
    {
     "name": "stdout",
     "output_type": "stream",
     "text": [
      "Nu am gasit coloana ground truth. Daca ai, redenumeste in 'true_labels' sau adauga o coloana similara.\n"
     ]
    }
   ],
   "source": [
    "if 'true_labels' in comp_df.columns or any('true' in c.lower() for c in comp_df.columns):\n",
    "    truth_col = 'true_labels' if 'true_labels' in comp_df.columns else next(c for c in comp_df.columns if 'true' in c.lower())\n",
    "    def parse_truth(s):\n",
    "        if pd.isna(s) or s=='':\n",
    "            return []\n",
    "        if isinstance(s, list):\n",
    "            return s\n",
    "        \n",
    "        parts = re.split(r'[;,|]', str(s))\n",
    "        return [p.strip() for p in parts if p.strip()]\n",
    "    comp_df['_truth_list'] = comp_df[truth_col].apply(parse_truth)\n",
    "    \n",
    "\n",
    "    from sklearn.preprocessing import MultiLabelBinarizer # construire ml binarizer simplu\n",
    "\n",
    "    mlb = MultiLabelBinarizer(classes=labels)\n",
    "    Y_true = mlb.fit_transform(comp_df['_truth_list'])\n",
    "    Y_pred = mlb.transform(comp_df['assigned_tf_idf'])\n",
    "    \n",
    "    from sklearn.metrics import classification_report\n",
    "\n",
    "    print(classification_report(Y_true, Y_pred, target_names=mlb.classes_, zero_division=0))\n",
    "else:\n",
    "    print(\"Nu am gasit coloana ground truth. Daca ai, redenumeste in 'true_labels' sau adauga o coloana similara.\")"
   ]
  },
  {
   "cell_type": "code",
   "execution_count": null,
   "id": "76f3fe61",
   "metadata": {},
   "outputs": [
    {
     "name": "stdout",
     "output_type": "stream",
     "text": [
      "Label embeddings: (220, 384)\n",
      "Company embeddings: (9494, 384)\n"
     ]
    }
   ],
   "source": [
    "import warnings, os\n",
    "warnings.filterwarnings(\"ignore\")\n",
    "os.environ[\"USE_TF\"] = \"0\"\n",
    "os.environ[\"TRANSFORMERS_NO_TF_WARNING\"] = \"1\"\n",
    "\n",
    "from sentence_transformers import SentenceTransformer\n",
    "\n",
    "model = SentenceTransformer('all-MiniLM-L6-v2', device='cpu')\n",
    "\n",
    "# scazut batch size pentru ca dura prea mult \n",
    "label_emb = model.encode(label_docs, show_progress_bar=False, batch_size=16, convert_to_numpy=True)\n",
    "comp_emb = model.encode(company_docs, show_progress_bar=False, batch_size=16, convert_to_numpy=True)\n",
    "\n",
    "print(\"Label embeddings:\", label_emb.shape)\n",
    "print(\"Company embeddings:\", comp_emb.shape)\n"
   ]
  },
  {
   "cell_type": "code",
   "execution_count": 14,
   "id": "c5f2c4da",
   "metadata": {},
   "outputs": [
    {
     "name": "stderr",
     "output_type": "stream",
     "text": [
      "Calcul cosine batches: 100%|██████████| 19/19 [00:00<00:00, 483.53it/s]"
     ]
    },
    {
     "name": "stdout",
     "output_type": "stream",
     "text": [
      "Shape matrice similaritate: (9494, 220)\n"
     ]
    },
    {
     "name": "stderr",
     "output_type": "stream",
     "text": [
      "\n"
     ]
    }
   ],
   "source": [
    "from sklearn.metrics.pairwise import cosine_similarity\n",
    "from tqdm import tqdm\n",
    "\n",
    "\n",
    "batch_size = 500   \n",
    "sim_matrix_emb = np.zeros((len(comp_emb), len(label_emb)), dtype=np.float32)\n",
    "\n",
    "for start in tqdm(range(0, len(comp_emb), batch_size), desc=\"Calcul cosine batches\"):\n",
    "    end = min(start + batch_size, len(comp_emb))\n",
    "    sim_matrix_emb[start:end] = cosine_similarity(comp_emb[start:end], label_emb)\n",
    "\n",
    "print(\"Shape matrice similaritate:\", sim_matrix_emb.shape)\n"
   ]
  },
  {
   "cell_type": "code",
   "execution_count": 15,
   "id": "c973de45",
   "metadata": {},
   "outputs": [
    {
     "name": "stdout",
     "output_type": "stream",
     "text": [
      "Companii procesate: 9494\n",
      "Companii cu cel putin o eticheta: 4785\n"
     ]
    }
   ],
   "source": [
    "# praguri dinamice mean + std\n",
    "label_means_emb = sim_matrix_emb.mean(axis=0)\n",
    "label_stds_emb = sim_matrix_emb.std(axis=0)\n",
    "thresholds_meanstd_emb = label_means_emb + label_stds_emb\n",
    "\n",
    "global_fixed_threshold_emb = 0.40\n",
    "thresholds_emb = {\n",
    "    labels[i]: float(max(thresholds_meanstd_emb[i], global_fixed_threshold_emb))\n",
    "    for i in range(len(labels))\n",
    "}\n",
    "\n",
    "assigned_emb, assigned_scores_emb = [], []\n",
    "for i, row in enumerate(sim_matrix_emb):\n",
    "    labs, labs_scores = [], {}\n",
    "    for j, lab in enumerate(labels):\n",
    "        score = float(row[j])\n",
    "        if score >= thresholds_emb[lab]:\n",
    "            labs.append(lab)\n",
    "            labs_scores[lab] = score\n",
    "    assigned_emb.append(labs)\n",
    "    assigned_scores_emb.append(labs_scores)\n",
    "\n",
    "comp_df['assigned_emb'] = assigned_emb\n",
    "comp_df['assigned_emb_scores'] = assigned_scores_emb\n",
    "\n",
    "print(\"Companii procesate:\", len(comp_df))\n",
    "print(\"Companii cu cel putin o eticheta:\", sum(1 for a in assigned_emb if a))\n"
   ]
  },
  {
   "cell_type": "code",
   "execution_count": 16,
   "id": "c421e36f",
   "metadata": {},
   "outputs": [
    {
     "name": "stdout",
     "output_type": "stream",
     "text": [
      "1. Welchcivils is a civil engineering and construction company that specializes in designing and building utility network connections across the UK. They offer multi-utility solutions that combine electricity, gas, water, and fibre optic installation into a single contract. Their design engineer teams are capable of designing electricity, water and gas networks from existing network connection points to meter locations at the development, as well as project management of reinforcements and diversions. They provide custom connection solutions that take into account any existing assets, maximize the usage of every trench, and meet project deadlines. Welchcivils has considerable expertise installing gas and electricity connections in a variety of market categories, including residential, commercial, and industrial projects, as as well.\n",
      "   Etichete: ['Commercial Communication Equipment Installation', 'Residential Plumbing Services', 'Commercial Plumbing Services', 'Industrial Plumbing Services', 'Gas Installation Services', 'Commercial Electrical Services', 'Commercial Construction Services', 'Gas Manufacturing Services']\n",
      "   Scoruri: {'Commercial Communication Equipment Installation': 0.428, 'Residential Plumbing Services': 0.429, 'Commercial Plumbing Services': 0.44, 'Industrial Plumbing Services': 0.425, 'Gas Installation Services': 0.441, 'Commercial Electrical Services': 0.405, 'Commercial Construction Services': 0.417, 'Gas Manufacturing Services': 0.401}\n",
      "\n",
      "2. Kyoto Vegetable Specialists Uekamo, also known as Iwa-machi, is a company based in Kyoto, Japan that specializes in the sale of vegetables. They have been in business for ten years and offer a collection of vegetable recipes through their Keiō Vegetable Recipe Collection and Online Shop. The company is directly owned by Uekamoo Farm, Uekame Farm, and Lobechi Shijo-hara Farm. They offer a variety of vegetable products, including suguki-zuke and Kamoo eggplant, and also accept production cultivation according to customer requests. Iwaichi Limited Company uses their experience in production and sales to provide tailored vegetables to meet customer needs and also accepts cultivation of products according to their requirements.\n",
      "   Etichete: ['Meat Processing Services', 'Food Processing Services']\n",
      "   Scoruri: {'Meat Processing Services': 0.414, 'Food Processing Services': 0.418}\n",
      "\n",
      "3. Loidholdhof Integrative Hofgemeinschaft is a company that offers a range of services and products to its customers. Their products are all handmade and of the highest quality, produced on a biodynamic basis with a focus on freshness and quality. The company's product range includes homemade bread, honey from their own beekeeping, syrup, and fresh vegetables, which can be purchased in their farm shop. In addition to their farm products, they also have a farm shop and cafe where customers can enjoy fresh coffee and delicious cakes.\n",
      "   Etichete: ['Gardening Services', 'Meat Processing Services', 'Dairy Production Services', 'Bakery Production Services', 'Cabinetry Manufacturing', 'Food Processing Services', 'Catering Services']\n",
      "   Scoruri: {'Gardening Services': 0.418, 'Meat Processing Services': 0.421, 'Dairy Production Services': 0.449, 'Bakery Production Services': 0.555, 'Cabinetry Manufacturing': 0.403, 'Food Processing Services': 0.446, 'Catering Services': 0.434}\n",
      "\n",
      "4. PATAGONIA Chapa Y Pintura is an auto body shop located in Comodoro Rivadavia, Chubut Province, Argentina. The company specializes in providing auto body repair services.\n",
      "   Etichete: []\n",
      "   Scoruri: {}\n",
      "\n",
      "5. Stanica WODNA PTTK Swornegacie is a cultural establishment located in Swornychgaciach, Poland. It is a popular destination for kayakers and tourists of all levels, offering a variety of activities and events. The establishment is managed by Zbigniew Galiński.\n",
      "   Etichete: []\n",
      "   Scoruri: {}\n",
      "\n"
     ]
    }
   ],
   "source": [
    "for i, row in comp_df.head(5).iterrows():\n",
    "    print(f\"{i+1}. {row[name_col]}\")\n",
    "    print(\"   Etichete:\", row['assigned_emb'])\n",
    "    print(\"   Scoruri:\", {k: round(v, 3) for k, v in row['assigned_emb_scores'].items()})\n",
    "    print()\n"
   ]
  },
  {
   "cell_type": "code",
   "execution_count": 17,
   "id": "cabde2c1",
   "metadata": {},
   "outputs": [
    {
     "data": {
      "application/vnd.jupyter.widget-view+json": {
       "model_id": "059b07f58f904e4b8838e09def5a0ae2",
       "version_major": 2,
       "version_minor": 0
      },
      "text/plain": [
       "Batches:   0%|          | 0/13 [00:00<?, ?it/s]"
      ]
     },
     "metadata": {},
     "output_type": "display_data"
    }
   ],
   "source": [
    "comp_sample = company_docs[:200]\n",
    "comp_emb = model.encode(comp_sample, batch_size=16, show_progress_bar=True)\n"
   ]
  },
  {
   "cell_type": "code",
   "execution_count": 18,
   "id": "3c82b9c6",
   "metadata": {},
   "outputs": [],
   "source": [
    "np.save(\"s2/embeddings_sim_matrix_emb.npy\", sim_matrix_emb)\n"
   ]
  },
  {
   "cell_type": "code",
   "execution_count": 19,
   "id": "e59ebf09",
   "metadata": {},
   "outputs": [
    {
     "name": "stdout",
     "output_type": "stream",
     "text": [
      "Saved embeddings results in folder: s2\n",
      " - s2\\sol2_embeddings.csv\n",
      " - s2\\sol2_embeddings_labels.json\n",
      " - s2\\sol2_embeddings_summary.json\n"
     ]
    }
   ],
   "source": [
    "\n",
    "\n",
    "output_dir = Path('s2')\n",
    "output_dir.mkdir(parents=True, exist_ok=True)\n",
    "\n",
    "output_prefix = output_dir / 'sol2_embeddings'\n",
    "\n",
    "\n",
    "comp_df.to_csv(f\"{output_prefix}.csv\", index=False) # Salvam CSV complet\n",
    "\n",
    "\n",
    "with open(f\"{output_prefix}_labels.json\", 'w', encoding='utf-8') as f:\n",
    "    json.dump({'labels': labels, 'thresholds': thresholds_emb}, f, ensure_ascii=False, indent=2)\n",
    "\n",
    "summary_emb = {\n",
    "    'n_companies': int(len(comp_df)),\n",
    "    'n_assigned_any': int(sum(1 for a in assigned_emb if a)),\n",
    "    'top_labels': Counter([l for labs in assigned_emb for l in labs]).most_common(30)\n",
    "}\n",
    "\n",
    "with open(f\"{output_prefix}_summary.json\", 'w', encoding='utf-8') as f:\n",
    "    json.dump(summary_emb, f, ensure_ascii=False, indent=2)\n",
    "\n",
    "print(\"Saved embeddings results in folder:\", output_dir)\n",
    "print(\" -\", f\"{output_prefix}.csv\")\n",
    "print(\" -\", f\"{output_prefix}_labels.json\")\n",
    "print(\" -\", f\"{output_prefix}_summary.json\")\n"
   ]
  },
  {
   "cell_type": "code",
   "execution_count": 20,
   "id": "afbb47d3",
   "metadata": {},
   "outputs": [
    {
     "name": "stdout",
     "output_type": "stream",
     "text": [
      "Comparatie etichete intre TF-IDF si Embeddings completata.\n"
     ]
    }
   ],
   "source": [
    "# Comparare rezultate TF-IDF vs Embeddings\n",
    "\n",
    "def compare_label_sets(tfidf_labels, emb_labels):\n",
    "    tfidf_set = set(tfidf_labels)\n",
    "    emb_set = set(emb_labels)\n",
    "    intersect = tfidf_set & emb_set\n",
    "    only_tfidf = tfidf_set - emb_set\n",
    "    only_emb = emb_set - tfidf_set\n",
    "    return {\n",
    "        \"common\": list(intersect),\n",
    "        \"only_tfidf\": list(only_tfidf),\n",
    "        \"only_emb\": list(only_emb)\n",
    "    }\n",
    "\n",
    "comparison = []\n",
    "for i, row in comp_df.iterrows():\n",
    "    res = compare_label_sets(row['assigned_tf_idf'], row['assigned_emb'])\n",
    "    comparison.append(res)\n",
    "\n",
    "comp_df['label_overlap'] = [r['common'] for r in comparison]\n",
    "comp_df['only_tfidf'] = [r['only_tfidf'] for r in comparison]\n",
    "comp_df['only_emb'] = [r['only_emb'] for r in comparison]\n",
    "\n",
    "print(\"Comparatie etichete intre TF-IDF si Embeddings completata.\")\n"
   ]
  },
  {
   "cell_type": "code",
   "execution_count": 21,
   "id": "aabe5396",
   "metadata": {},
   "outputs": [
    {
     "name": "stdout",
     "output_type": "stream",
     "text": [
      "Companii cu etichete comune intre TF-IDF si Embeddings: 1134\n",
      "Companii etichetate doar de TF-IDF: 1042\n",
      "Companii etichetate doar de Embeddings: 4413\n",
      "\n",
      "Top 10 etichete comune intre metode:\n",
      " - Furniture Manufacturing: 44 companii\n",
      " - Waste Management Services: 38 companii\n",
      " - Insurance Services: 37 companii\n",
      " - Printing Services: 35 companii\n",
      " - Consulting Services: 33 companii\n",
      " - Interior Design Services: 28 companii\n",
      " - Real Estate Services: 28 companii\n",
      " - Plastic Manufacturing: 23 companii\n",
      " - Recycling Services: 21 companii\n",
      " - Rubber Manufacturing: 21 companii\n"
     ]
    }
   ],
   "source": [
    "# Analiza intre ele \n",
    "\n",
    "same_labels = sum(1 for r in comp_df['label_overlap'] if len(r) > 0)\n",
    "only_tfidf_count = sum(1 for r in comp_df['only_tfidf'] if len(r) > 0)\n",
    "only_emb_count = sum(1 for r in comp_df['only_emb'] if len(r) > 0)\n",
    "\n",
    "print(f\"Companii cu etichete comune intre TF-IDF si Embeddings: {same_labels}\")\n",
    "print(f\"Companii etichetate doar de TF-IDF: {only_tfidf_count}\")\n",
    "print(f\"Companii etichetate doar de Embeddings: {only_emb_count}\")\n",
    "\n",
    "from collections import Counter\n",
    "\n",
    "overlap_labels = Counter([lab for labs in comp_df['label_overlap'] for lab in labs])\n",
    "print(\"\\nTop 10 etichete comune intre metode:\")\n",
    "for lab, count in overlap_labels.most_common(10):\n",
    "    print(f\" - {lab}: {count} companii\")\n"
   ]
  },
  {
   "cell_type": "code",
   "execution_count": 22,
   "id": "a45568d1",
   "metadata": {},
   "outputs": [
    {
     "name": "stdout",
     "output_type": "stream",
     "text": [
      "Exemple comparative TF-IDF vs Embeddings:\n",
      "\n",
      "1. Welchcivils is a civil engineering and construction company that specializes in designing and building utility network connections across the UK. They offer multi-utility solutions that combine electricity, gas, water, and fibre optic installation into a single contract. Their design engineer teams are capable of designing electricity, water and gas networks from existing network connection points to meter locations at the development, as well as project management of reinforcements and diversions. They provide custom connection solutions that take into account any existing assets, maximize the usage of every trench, and meet project deadlines. Welchcivils has considerable expertise installing gas and electricity connections in a variety of market categories, including residential, commercial, and industrial projects, as as well.\n",
      "   TF-IDF: []\n",
      "   EMBEDDINGS: ['Commercial Communication Equipment Installation', 'Residential Plumbing Services', 'Commercial Plumbing Services', 'Industrial Plumbing Services', 'Gas Installation Services', 'Commercial Electrical Services', 'Commercial Construction Services', 'Gas Manufacturing Services']\n",
      "   COMUNE: []\n",
      "\n",
      "2. Kyoto Vegetable Specialists Uekamo, also known as Iwa-machi, is a company based in Kyoto, Japan that specializes in the sale of vegetables. They have been in business for ten years and offer a collection of vegetable recipes through their Keiō Vegetable Recipe Collection and Online Shop. The company is directly owned by Uekamoo Farm, Uekame Farm, and Lobechi Shijo-hara Farm. They offer a variety of vegetable products, including suguki-zuke and Kamoo eggplant, and also accept production cultivation according to customer requests. Iwaichi Limited Company uses their experience in production and sales to provide tailored vegetables to meet customer needs and also accepts cultivation of products according to their requirements.\n",
      "   TF-IDF: []\n",
      "   EMBEDDINGS: ['Meat Processing Services', 'Food Processing Services']\n",
      "   COMUNE: []\n",
      "\n",
      "3. Loidholdhof Integrative Hofgemeinschaft is a company that offers a range of services and products to its customers. Their products are all handmade and of the highest quality, produced on a biodynamic basis with a focus on freshness and quality. The company's product range includes homemade bread, honey from their own beekeeping, syrup, and fresh vegetables, which can be purchased in their farm shop. In addition to their farm products, they also have a farm shop and cafe where customers can enjoy fresh coffee and delicious cakes.\n",
      "   TF-IDF: []\n",
      "   EMBEDDINGS: ['Gardening Services', 'Meat Processing Services', 'Dairy Production Services', 'Bakery Production Services', 'Cabinetry Manufacturing', 'Food Processing Services', 'Catering Services']\n",
      "   COMUNE: []\n",
      "\n",
      "4. PATAGONIA Chapa Y Pintura is an auto body shop located in Comodoro Rivadavia, Chubut Province, Argentina. The company specializes in providing auto body repair services.\n",
      "   TF-IDF: ['Boiler Repair Services']\n",
      "   EMBEDDINGS: []\n",
      "   COMUNE: []\n",
      "\n",
      "5. Stanica WODNA PTTK Swornegacie is a cultural establishment located in Swornychgaciach, Poland. It is a popular destination for kayakers and tourists of all levels, offering a variety of activities and events. The establishment is managed by Zbigniew Galiński.\n",
      "   TF-IDF: []\n",
      "   EMBEDDINGS: []\n",
      "   COMUNE: []\n",
      "\n"
     ]
    }
   ],
   "source": [
    "print(\"Exemple comparative TF-IDF vs Embeddings:\\n\")\n",
    "\n",
    "for i, row in comp_df.head(5).iterrows():\n",
    "    print(f\"{i+1}. {row[name_col]}\")\n",
    "    print(\"   TF-IDF:\", row['assigned_tf_idf'])\n",
    "    print(\"   EMBEDDINGS:\", row['assigned_emb'])\n",
    "    print(\"   COMUNE:\", row['label_overlap'])\n",
    "    print()\n"
   ]
  },
  {
   "cell_type": "code",
   "execution_count": 23,
   "id": "7078a500",
   "metadata": {},
   "outputs": [
    {
     "name": "stdout",
     "output_type": "stream",
     "text": [
      "Analiza comparativa TF-IDF vs Embeddings:\n",
      "- TF-IDF capteaza potriviri lexicale exacte (utile pentru denumiri tehnice).\n",
      "- Embeddings captureaza semantica contextuala (utile cand descrierile sunt scurte sau sinonime).\n",
      "- Intersectia dintre cele doua metode reprezinta clasificari robuste, cu probabilitate mare de corectitudine.\n",
      "- Diferentele pot fi folosite pentru re-etalonare a pragurilor per eticheta.\n",
      "- Pentru productivizare, se recomanda combinarea scorurilor (ex: media normalizata TF-IDF + Embedding).\n"
     ]
    }
   ],
   "source": [
    "print(\"Analiza comparativa TF-IDF vs Embeddings:\")\n",
    "print(\"- TF-IDF capteaza potriviri lexicale exacte (utile pentru denumiri tehnice).\")\n",
    "print(\"- Embeddings captureaza semantica contextuala (utile cand descrierile sunt scurte sau sinonime).\")\n",
    "print(\"- Intersectia dintre cele doua metode reprezinta clasificari robuste, cu probabilitate mare de corectitudine.\")\n",
    "print(\"- Diferentele pot fi folosite pentru re-etalonare a pragurilor per eticheta.\")\n",
    "print(\"- Pentru productivizare, se recomanda combinarea scorurilor (ex: media normalizata TF-IDF + Embedding).\")\n"
   ]
  },
  {
   "cell_type": "code",
   "execution_count": 25,
   "id": "aeff3a6e",
   "metadata": {},
   "outputs": [
    {
     "data": {
      "image/png": "[encoded data removed]",
      "text/plain": [
       "<Figure size 1000x500 with 1 Axes>"
      ]
     },
     "metadata": {},
     "output_type": "display_data"
    }
   ],
   "source": [
    "# Calculam frecventele etichetelor comune\n",
    "overlap_labels = Counter([lab for labs in comp_df['label_overlap'] for lab in labs])\n",
    "\n",
    "# Selectam top 10 etichete comune\n",
    "top_common_labels = overlap_labels.most_common(10)\n",
    "labels_top = [x[0] for x in top_common_labels]\n",
    "counts_top = [x[1] for x in top_common_labels]\n",
    "\n",
    "import matplotlib.pyplot as plt\n",
    "\n",
    "# Plot\n",
    "plt.figure(figsize=(10, 5))\n",
    "plt.barh(labels_top[::-1], counts_top[::-1])\n",
    "plt.title(\"Top 10 Etichete Comune între TF-IDF și Embeddings\", fontsize=13)\n",
    "plt.xlabel(\"Număr Companii cu Eticheta Comună\")\n",
    "plt.ylabel(\"Etichetă\")\n",
    "plt.grid(axis='x', linestyle='--', alpha=0.5)\n",
    "plt.tight_layout()\n",
    "plt.show()\n"
   ]
  },
  {
   "cell_type": "code",
   "execution_count": 26,
   "id": "778859d7",
   "metadata": {},
   "outputs": [
    {
     "data": {
      "image/png": "[encoded data removed]",
      "text/plain": [
       "<Figure size 1200x500 with 2 Axes>"
      ]
     },
     "metadata": {},
     "output_type": "display_data"
    }
   ],
   "source": [
    "# Etichete atribuite doar de TF-IDF sau doar de Embeddings\n",
    "only_tfidf_labels = Counter([lab for labs in comp_df['only_tfidf'] for lab in labs])\n",
    "only_emb_labels = Counter([lab for labs in comp_df['only_emb'] for lab in labs])\n",
    "\n",
    "# Top 10 divergente\n",
    "top_tfidf_unique = only_tfidf_labels.most_common(10)\n",
    "top_emb_unique = only_emb_labels.most_common(10)\n",
    "\n",
    "\n",
    "fig, ax = plt.subplots(1, 2, figsize=(12, 5))\n",
    "\n",
    "# tfidf\n",
    "ax[0].barh([x[0] for x in top_tfidf_unique[::-1]], [x[1] for x in top_tfidf_unique[::-1]], color='tab:orange')\n",
    "ax[0].set_title(\"Etichete atribuite doar de TF-IDF\", fontsize=12)\n",
    "ax[0].grid(axis='x', linestyle='--', alpha=0.5)\n",
    "\n",
    "# embeddings\n",
    "ax[1].barh([x[0] for x in top_emb_unique[::-1]], [x[1] for x in top_emb_unique[::-1]], color='tab:blue')\n",
    "ax[1].set_title(\"Etichete atribuite doar de Embeddings\", fontsize=12)\n",
    "ax[1].grid(axis='x', linestyle='--', alpha=0.5)\n",
    "\n",
    "plt.tight_layout()\n",
    "plt.show()\n"
   ]
  }
 ],
 "metadata": {
  "kernelspec": {
   "display_name": "base",
   "language": "python",
   "name": "python3"
  },
  "language_info": {
   "codemirror_mode": {
    "name": "ipython",
    "version": 3
   },
   "file_extension": ".py",
   "mimetype": "text/x-python",
   "name": "python",
   "nbconvert_exporter": "python",
   "pygments_lexer": "ipython3",
   "version": "3.12.11"
  }
 },
 "nbformat": 4,
 "nbformat_minor": 5
}
